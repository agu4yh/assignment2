{
 "cells": [
  {
   "cell_type": "markdown",
   "metadata": {
    "colab_type": "text",
    "id": "view-in-github"
   },
   "source": [
    "<a href=\"https://colab.research.google.com/github/agu4yh/assignment2/blob/main/Copy_of_assignment2.ipynb\" target=\"_parent\"><img src=\"https://colab.research.google.com/assets/colab-badge.svg\" alt=\"Open In Colab\"/></a>"
   ]
  },
  {
   "cell_type": "markdown",
   "metadata": {
    "id": "13ad028b-72b7-43ed-aa78-96fd4e518040"
   },
   "source": [
    "# Assignment: Data Wrangling and Exploratory Data Analysis\n",
    "## Do Q1 and Q2, and one other question.\n",
    "`! git clone https://www.github.com/DS3001/assignment2`"
   ]
  },
  {
   "cell_type": "markdown",
   "metadata": {
    "id": "5735a4d4-8be8-433a-a351-70eb8002e632"
   },
   "source": [
    "**Q1.** Open the \"tidy_data.pdf\" document in the repo, which is a paper called Tidy Data by Hadley Wickham.\n",
    "\n",
    "  1. Read the abstract. What is this paper about?\n",
    "\n",
    "This paper is about tidy data, and how to make data cleaning as efficient and easy as possible.\n",
    "\n",
    "  2. Read the introduction. What is the \"tidy data standard\" intended to accomplish?\n",
    "\n",
    "\"The tidy data standard has been designed to facilitate initial exploration and analysis of the data, and to symplify the developement of data analysis tools that work well together.\"\n",
    "\n",
    "  3. Read the intro to section 2. What does this sentence mean: \"Like families, tidy datasets are all alike but every messy dataset is messy in its own way.\" What does this sentence mean: \"For a given dataset, it’s usually easy to figure out what are observations and what are variables, but it is surprisingly difficult to precisely define variables and observations in general.\"\n",
    "\n",
    "  The first scentence means that tidy datasets are cleaned to be organized in the same manner, while messy datasets can be organized in a variety of different ways, making them less predictable and difficult to dive into analysis.\n",
    "\n",
    "  4. Read Section 2.2. How does Wickham define values, variables, and observations?\n",
    "\n",
    "Values: \"usually either numbers (if quantitiative) or strings (if qualitative).\"\n",
    "\n",
    "Variables: \"contains all values that measure the same underlying attribute (like height, temperature, duration) across units.\"\n",
    "\n",
    "Observations: \"contains all values measured on the same unit (like a person, or a day, or a race) across attributes.\"\n",
    "\n",
    "  5. How is \"Tidy Data\" defined in section 2.3?\n",
    "\n",
    "Tidy data is defined as \"the standard way of mapping the meaning of a dataset to it's structure\"\n",
    "\n",
    "  6. Read the intro to Section 3 and Section 3.1. What are the 5 most common problems with messy datasets? Why are the data in Table 4 messy? What is \"melting\" a dataset?\n",
    "\n",
    "The 5 most common problems with messy datasets are when column headers are values and not variable names, multiple variables are stored in one column, variables are stored in both rows and columns, multiple types of observational units are stored in the same table, a single observational unit is stored in multiple tables.\n",
    "\n",
    "The data in table 4 are messy because they use 3 variables (religion, income and freuency) which are stored in both columns and rows.\n",
    "\n",
    "\"Melting\" a dataset is the process of tidying it by turning columns into rows. \"Melting is parameterised by a list of columns that are already variables, or colvars for short. The other columns are converted into two variables: a new variable called column that contains repeated column headings and a new variable called value that contains the concatenated data values from the previously separate columns.\"\n",
    "\n",
    "  7. Why, specifically, is table 11 messy but table 12 tidy and \"molten\"?\n",
    "\n",
    "Table 11 is messy because it has a column for each instance of a day variable (d1, d2, d3, ... etc.). In contrast, table 12 is tidy because each instance of a variable is within it's column, including the day variable.\n",
    "\n",
    "  8. Read Section 6. What is the \"chicken-and-egg\" problem with focusing on tidy data? What does Wickham hope happens in the future with further work on the subject of data wrangling?\n",
    "\n"
   ]
  },
  {
   "cell_type": "markdown",
   "metadata": {
    "id": "da879ea7-8aac-48a3-b6c2-daea56d2e072"
   },
   "source": [
    "**Q2.** This question provides some practice cleaning variables which have common problems.\n",
    "   1. Numeric variable: For `./data/airbnb_hw.csv`, clean the `Price` variable as well as you can, and explain the choices you make. How many missing values do you end up with? (Hint: What happens to the formatting when a price goes over 999 dollars, say from 675 to 1,112?)\n",
    "\n",
    "To clean 'Price', I chose to remove the \",\" from all the prices and convert to a float in order to filter through the values easier. I chose to validate 'Price' to make sure all values were accepted, so I ended up with 0 missing values, which can be seen in the code below."
   ]
  },
  {
   "cell_type": "code",
   "execution_count": 2,
   "metadata": {},
   "outputs": [
    {
     "name": "stdout",
     "output_type": "stream",
     "text": [
      "count    30478.000000\n",
      "mean       163.589737\n",
      "std        197.785454\n",
      "min         10.000000\n",
      "25%         80.000000\n",
      "50%        125.000000\n",
      "75%        195.000000\n",
      "max      10000.000000\n",
      "Name: Price, dtype: float64\n",
      "Missing values in 'Price': 0\n",
      "19        700.0\n",
      "263      1000.0\n",
      "680       800.0\n",
      "792       695.0\n",
      "1059      800.0\n",
      "          ...  \n",
      "30015     900.0\n",
      "30079     700.0\n",
      "30287     900.0\n",
      "30440     850.0\n",
      "30472     850.0\n",
      "Name: Price, Length: 277, dtype: float64\n"
     ]
    }
   ],
   "source": [
    "import pandas as pd\n",
    "\n",
    "# Load the dataset\n",
    "df = pd.read_csv('./data/airbnb_hw.csv')\n",
    "\n",
    "# Remove commas from the 'Price' column\n",
    "df['Price'] = df['Price'].str.replace(',', '').astype(float)\n",
    "\n",
    "# Validate the 'Price' column\n",
    "print(df['Price'].describe())\n",
    "\n",
    "# Check for missing values in the 'Price' column\n",
    "missing_values = df['Price'].isnull().sum()\n",
    "print(\"Missing values in 'Price':\", missing_values)\n",
    "\n",
    "# Filter and print values within the specified range\n",
    "filtered_prices = df[(df['Price'] >= 675) & (df['Price'] <= 1112)]\n",
    "print(filtered_prices['Price'])"
   ]
  },
  {
   "cell_type": "markdown",
   "metadata": {},
   "source": [
    "   2. Categorical variable: For the `./data/sharks.csv` data covered in the lecture, clean the \"Type\" variable as well as you can, and explain the choices you make.\n",
    "\n",
    "I combined types that seemed redundant and could be combined like how we discussed in lecture. I chose to replace 'Questionable', 'Unverified' and 'Under investigation' with 'Unconfirmed' and replaced 'Boating', 'Boat' and 'Boatomg' with 'Watercraft'."
   ]
  },
  {
   "cell_type": "code",
   "execution_count": 9,
   "metadata": {},
   "outputs": [
    {
     "name": "stdout",
     "output_type": "stream",
     "text": [
      "Types before cleaning:\n",
      " Unprovoked\n",
      " Provoked\n",
      " Questionable\n",
      " Watercraft\n",
      " Unconfirmed\n",
      " Unverified\n",
      " Invalid\n",
      " Under investigation\n",
      " Boating\n",
      " Sea Disaster\n",
      " nan\n",
      " Boat\n",
      " Boatomg\n",
      "\n",
      "Types after cleaning:\n",
      " Unprovoked\n",
      " Provoked\n",
      " Unconfirmed\n",
      " Watercraft\n",
      " Invalid\n",
      " Sea Disaster\n",
      " nan\n"
     ]
    }
   ],
   "source": [
    "import pandas as pd\n",
    "\n",
    "# Load the data\n",
    "df = pd.read_csv('./data/sharks.csv')\n",
    "\n",
    "# Examine unique values in the 'Type' column\n",
    "unique_types = df['Type'].unique()\n",
    "print(\"Types before cleaning:\")\n",
    "for types in unique_types:\n",
    "    print(\" \" + str(types))\n",
    "\n",
    "#Combine several types into the 'Unconfirmed' type\n",
    "df['Type'].replace({'Questionable': 'Unconfirmed'}, inplace=True)\n",
    "df['Type'].replace({'Unverified': 'Unconfirmed'}, inplace=True)\n",
    "df['Type'].replace({'Under investigation': 'Unconfirmed'}, inplace=True)\n",
    "\n",
    "#Combine several types into the 'Watercraft' type\n",
    "df['Type'].replace({'Boating': 'Watercraft'}, inplace=True)\n",
    "df['Type'].replace({'Boat': 'Watercraft'}, inplace=True)\n",
    "df['Type'].replace({'Boatomg': 'Watercraft'}, inplace=True)\n",
    "\n",
    "print(\"\\nTypes after cleaning:\")\n",
    "unique_types = df['Type'].unique()\n",
    "for types in unique_types:\n",
    "    print(\" \" + str(types))"
   ]
  },
  {
   "cell_type": "markdown",
   "metadata": {},
   "source": [
    "   3. Dummy variable: For the pretrial data covered in the lecture, clean the `WhetherDefendantWasReleasedPretrial` variable as well as you can, and, in particular, replace missing values with `np.nan`.\n"
   ]
  },
  {
   "cell_type": "code",
   "execution_count": null,
   "metadata": {},
   "outputs": [],
   "source": []
  },
  {
   "cell_type": "markdown",
   "metadata": {},
   "source": [
    "   4. Missing values, not at random: For the pretrial data covered in the lecture, clean the `ImposedSentenceAllChargeInContactEvent` variable as well as you can, and explain the choices you make. (Hint: Look at the `SentenceTypeAllChargesAtConvictionInContactEvent` variable.)"
   ]
  },
  {
   "cell_type": "markdown",
   "metadata": {
    "id": "c11bcd96-2834-41a4-80fe-d354b4277fd9"
   },
   "source": [
    "**Q3.** This question provides some practice doing exploratory data analysis and visualization.\n",
    "\n",
    "The \"relevant\" variables for this question are:\n",
    "  - `level` - Level of institution (4-year, 2-year)\n",
    "  - `aid_value` - The average amount of student aid going to undergraduate recipients\n",
    "  - `control` - Public, Private not-for-profit, Private for-profit\n",
    "  - `grad_100_value` - percentage of first-time, full-time, degree-seeking undergraduates who complete a degree or certificate program within 100 percent of expected time (bachelor's-seeking group at 4-year institutions)\n",
    "\n",
    "1. Load the `./data/college_completion.csv` data with Pandas.\n",
    "2. What are are the dimensions of the data? How many observations are there? What are the variables included? Use `.head()` to examine the first few rows of data.\n",
    "3. Cross tabulate `control` and `level`. Describe the patterns you see.\n",
    "4. For `grad_100_value`, create a histogram, kernel density plot, boxplot, and statistical description.\n",
    "5. For `grad_100_value`, create a grouped kernel density plot by `control` and by `level`. Describe what you see. Use `groupby` and `.describe` to make grouped calculations of statistical descriptions of `grad_100_value` by `level` and `control`. Which institutions appear to have the best graduation rates?\n",
    "6. Create a new variable, `df['levelXcontrol']=df['level']+', '+df['control']` that interacts level and control. Make a grouped kernel density plot. Which institutions appear to have the best graduation rates?\n",
    "7. Make a kernel density plot of `aid_value`. Notice that your graph is \"bi-modal\", having two little peaks that represent locally most common values. Now group your graph by `level` and `control`. What explains the bi-modal nature of the graph? Use `groupby` and `.describe` to make grouped calculations of statistical descriptions of `aid_value` by `level` and `control`.\n",
    "8. Make a scatterplot of `grad_100_value` by `aid_value`. Describe what you see. Now make the same plot, grouping by `level` and then `control`. Describe what you see. For which kinds of institutions does aid seem to increase graduation rates?"
   ]
  },
  {
   "cell_type": "markdown",
   "metadata": {
    "id": "98d34a3b-c21d-4dc9-a8d2-fb7686804ceb"
   },
   "source": [
    "**Q4.** This question uses the Airbnb data to practice making visualizations.\n",
    "\n",
    "  1. Load the `./data/airbnb_hw.csv` data with Pandas. You should have cleaned the `Price` variable in question 2, and you'll need it later for this question.\n",
    "  2. What are are the dimensions of the data? How many observations are there? What are the variables included? Use `.head()` to examine the first few rows of data.\n",
    "  3. Cross tabulate `Room Type` and `Property Type`. What patterns do you see in what kinds of rentals are available? For which kinds of properties are private rooms more common than renting the entire property?\n",
    "  4. For `Price`, make a histogram, kernel density, box plot, and a statistical description of the variable. Are the data badly scaled? Are there many outliers? Use `log` to transform price into a new variable, `price_log`, and take these steps again.\n",
    "  5. Make a scatterplot of `price_log` and `Beds`. Describe what you see. Use `.groupby()` to compute a desciption of `Price` conditional on/grouped by the number of beds. Describe any patterns you see in the average price and standard deviation in prices.\n",
    "  6. Make a scatterplot of `price_log` and `Beds`, but color the graph by `Room Type` and `Property Type`. What patterns do you see? Compute a description of `Price` conditional on `Room Type` and `Property Type`. Which Room Type and Property Type have the highest prices on average? Which have the highest standard deviation? Does the mean or median appear to be a more reliable estimate of central tendency, and explain why?\n",
    "  7. We've looked a bit at this `price_log` and `Beds` scatterplot. Use seaborn to make a `jointplot` with `kind=hex`. Where are the data actually distributed? How does it affect the way you think about the plots in 5 and 6?"
   ]
  },
  {
   "cell_type": "markdown",
   "metadata": {
    "id": "649494cd-cfd6-4f80-992a-9994fc19e1d5"
   },
   "source": [
    "**Q5.** Many important datasets contain a race variable, typically limited to a handful of values often including Black, White, Asian, Latino, and Indigenous. This question looks at data gathering efforts on this variable by the U.S. Federal government.\n",
    "\n",
    "1. How did the most recent US Census gather data on race?\n",
    "2. Why do we gather these data? What role do these kinds of data play in politics and society? Why does data quality matter?\n",
    "3. Please provide a constructive criticism of how the Census was conducted: What was done well? What do you think was missing? How should future large scale surveys be adjusted to best reflect the diversity of the population? Could some of the Census' good practices be adopted more widely to gather richer and more useful data?\n",
    "4. How did the Census gather data on sex and gender? Please provide a similar constructive criticism of their practices.\n",
    "5. When it comes to cleaning data, what concerns do you have about protected characteristics like sex, gender, sexual identity, or race? What challenges can you imagine arising when there are missing values? What good or bad practices might people adopt, and why?\n",
    "6. Suppose someone invented an algorithm to impute values for protected characteristics like race, gender, sex, or sexuality. What kinds of concerns would you have?"
   ]
  },
  {
   "cell_type": "markdown",
   "metadata": {
    "id": "2f38f2fd-6381-481d-bba9-017f3d363426"
   },
   "source": [
    "**Q6.** Open the `./data/CBO_data.pdf` file. This contains tax data for 2019, explaining where the money comes from that the U.S. Federal Government Spends in terms of taxation on individuals/families and payroll taxes (the amount that your employer pays in taxes on your wages).\n",
    "\n",
    "For some context, the Federal government ultimately spent about $4.4 trillion in 2019, which was 21% of GDP (the total monetary value of all goods and services produced within the United States). Individual Income Taxes is the amount individuals pay on their wages to the Federal government, Corporate Income Taxes is the taxes individuals pay on capital gains from investment when they sell stock or other financial instruments, Payroll Taxes is the tax your employer pays on your wages, Excises and Customs Duties are taxes on goods or services like sin taxes on cigarettes or alcohol, and Estate and Gift Taxes are taxes paid on transfers of wealth to other people.\n",
    "\n",
    "1. Get the Millions of Families and Billions of Dollars data into a .csv file and load it with Pandas.\n",
    "2. Create a bar plot of individual income taxes by income decile. Explain what the graph shows. Why are some values negative?\n",
    "3. Create a bar plot of Total Federal Taxes by income decile. Which deciles are paying net positive amounts, and which are paying net negative amounts?\n",
    "4. Create a stacked bar plot for which Total Federal Taxes is grouped by Individual Income Taxes, Payroll Taxes, Excises and Customs Duties, and Estate and Gift Taxes. How does the share of taxes paid vary across the adjusted income deciles? (Hint: Are these the kind of data you want to melt?)\n",
    "5. Below the Total line for Millions of Families and Billions of Dollars, there are data for the richest of the richest families. Plot this alongside the bars for the deciles above the Total line. Describe your results.\n",
    "6. Get the Percent Distribution data into a .csv file and load it with Pandas. Create a bar graph of Total Federal Taxes by income decile.\n",
    "7. A tax system is progressive if higher-income and wealthier individuals pay more than lower-income and less wealthy individuals, and it is regressive if the opposite is true. Is the U.S. tax system progressive in terms of amount paid? In terms of the percentage of the overall total?\n",
    "8. Do the rich pay enough in taxes? Defend your answer."
   ]
  }
 ],
 "metadata": {
  "colab": {
   "include_colab_link": true,
   "provenance": [],
   "toc_visible": true
  },
  "kernelspec": {
   "display_name": "Python 3",
   "language": "python",
   "name": "python3"
  },
  "language_info": {
   "codemirror_mode": {
    "name": "ipython",
    "version": 3
   },
   "file_extension": ".py",
   "mimetype": "text/x-python",
   "name": "python",
   "nbconvert_exporter": "python",
   "pygments_lexer": "ipython3",
   "version": "3.8.8"
  }
 },
 "nbformat": 4,
 "nbformat_minor": 5
}
